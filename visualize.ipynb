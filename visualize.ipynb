{
 "cells": [
  {
   "cell_type": "markdown",
   "metadata": {},
   "source": [
    "# Visualization of assignment 2 results\n",
    "This notebook visualizes some of the results that our pipeline for assignment 2 yields.  \n",
    "Most notably, we're interested in whether there is a difference in valence (positive/negative/neutral) in tweets about this year's two US presidential candidates: Donald Trump and Joe Biden."
   ]
  },
  {
   "cell_type": "code",
   "execution_count": 2,
   "metadata": {
    "pycharm": {
     "name": "#%%\n"
    }
   },
   "outputs": [],
   "source": [
    "# Imports\n",
    "import google.auth  #1.22.1\n",
    "from google.cloud import bigquery  #2.2.0\n",
    "from google.cloud import bigquery_storage  #2.0.1\n",
    "import matplotlib.pyplot as plt  #3.3.2\n",
    "import numpy as np  #1.19.2\n",
    "import os\n",
    "import pandas as pd  #1.1.4"
   ]
  },
  {
   "cell_type": "code",
   "execution_count": 3,
   "metadata": {},
   "outputs": [],
   "source": [
    "# Authorization for Google Cloud Platform\n",
    "os.environ[\"GOOGLE_APPLICATION_CREDENTIALS\"]=\"dataengineering-course-a9365e622cc2.json\"\n",
    "\n",
    "credentials, your_project_id = google.auth.default(\n",
    "    scopes=[\"https://www.googleapis.com/auth/cloud-platform\"]\n",
    ")\n",
    "\n",
    "# Creating the right clients to access BigQuery\n",
    "bqclient = bigquery.Client(credentials=credentials, project='dataengineering-course',)\n",
    "bqstorageclient = bigquery_storage.BigQueryReadClient(credentials=credentials)"
   ]
  },
  {
   "cell_type": "code",
   "execution_count": 4,
   "metadata": {},
   "outputs": [
    {
     "data": {
      "text/html": [
       "<div>\n",
       "<style scoped>\n",
       "    .dataframe tbody tr th:only-of-type {\n",
       "        vertical-align: middle;\n",
       "    }\n",
       "\n",
       "    .dataframe tbody tr th {\n",
       "        vertical-align: top;\n",
       "    }\n",
       "\n",
       "    .dataframe thead th {\n",
       "        text-align: right;\n",
       "    }\n",
       "</style>\n",
       "<table border=\"1\" class=\"dataframe\">\n",
       "  <thead>\n",
       "    <tr style=\"text-align: right;\">\n",
       "      <th></th>\n",
       "      <th>user_id</th>\n",
       "      <th>tweet</th>\n",
       "      <th>sentiment_label</th>\n",
       "      <th>compound_score</th>\n",
       "      <th>time_stamp</th>\n",
       "      <th>candidate</th>\n",
       "    </tr>\n",
       "  </thead>\n",
       "  <tbody>\n",
       "    <tr>\n",
       "      <th>0</th>\n",
       "      <td>@SylviaLehmann6</td>\n",
       "      <td>kirstiealley trump is the worse president the ...</td>\n",
       "      <td>neg</td>\n",
       "      <td>-0.648600000</td>\n",
       "      <td>2020-10-22 09:52:20</td>\n",
       "      <td>Trump</td>\n",
       "    </tr>\n",
       "    <tr>\n",
       "      <th>1</th>\n",
       "      <td>@KristinAGroh2</td>\n",
       "      <td>funder jaxs thank u scottwe must focus on bide...</td>\n",
       "      <td>pos</td>\n",
       "      <td>0.945100000</td>\n",
       "      <td>2020-10-22 10:04:33</td>\n",
       "      <td>Biden</td>\n",
       "    </tr>\n",
       "    <tr>\n",
       "      <th>2</th>\n",
       "      <td>@LBHickman</td>\n",
       "      <td>ive lost all faith in realdonaldtrump no secon...</td>\n",
       "      <td>neg</td>\n",
       "      <td>-0.915300000</td>\n",
       "      <td>2020-10-22 09:51:04</td>\n",
       "      <td>Both</td>\n",
       "    </tr>\n",
       "    <tr>\n",
       "      <th>3</th>\n",
       "      <td>@IShallResist</td>\n",
       "      <td>marcorubio and you will support the fraud clai...</td>\n",
       "      <td>neg</td>\n",
       "      <td>-0.526700000</td>\n",
       "      <td>2020-10-22 09:54:04</td>\n",
       "      <td>Trump</td>\n",
       "    </tr>\n",
       "    <tr>\n",
       "      <th>4</th>\n",
       "      <td>@ChrisFi78250835</td>\n",
       "      <td>skynewsaust senatormcgrath well every poll had...</td>\n",
       "      <td>pos</td>\n",
       "      <td>0.511800000</td>\n",
       "      <td>2020-10-22 09:58:58</td>\n",
       "      <td>Trump</td>\n",
       "    </tr>\n",
       "  </tbody>\n",
       "</table>\n",
       "</div>"
      ],
      "text/plain": [
       "            user_id                                              tweet  \\\n",
       "0   @SylviaLehmann6  kirstiealley trump is the worse president the ...   \n",
       "1    @KristinAGroh2  funder jaxs thank u scottwe must focus on bide...   \n",
       "2        @LBHickman  ive lost all faith in realdonaldtrump no secon...   \n",
       "3     @IShallResist  marcorubio and you will support the fraud clai...   \n",
       "4  @ChrisFi78250835  skynewsaust senatormcgrath well every poll had...   \n",
       "\n",
       "  sentiment_label compound_score           time_stamp candidate  \n",
       "0             neg   -0.648600000  2020-10-22 09:52:20     Trump  \n",
       "1             pos    0.945100000  2020-10-22 10:04:33     Biden  \n",
       "2             neg   -0.915300000  2020-10-22 09:51:04      Both  \n",
       "3             neg   -0.526700000  2020-10-22 09:54:04     Trump  \n",
       "4             pos    0.511800000  2020-10-22 09:58:58     Trump  "
      ]
     },
     "execution_count": 4,
     "metadata": {},
     "output_type": "execute_result"
    }
   ],
   "source": [
    "# Creating a pandas dataframe based on an SQL query in BigQuery\n",
    "query_string = \"SELECT * FROM `dataengineering-course.US_election_data.tweet_info`\"\n",
    "\n",
    "dataframe = (\n",
    "    bqclient.query(query_string)\n",
    "    .result()\n",
    "    .to_dataframe(bqstorage_client=bqstorageclient))\n",
    "\n",
    "df = pd.DataFrame(dataframe)\n",
    "df.head()"
   ]
  },
  {
   "cell_type": "markdown",
   "metadata": {},
   "source": [
    "## Checking the sentiment analysis model\n",
    "Let's see if the sentiment analysis makes sense.  \n",
    "Are tweets correctly classified as either positive or negative?\n",
    "\n",
    "We print the three most negative and positive tweets in the dataset, to see if we agree with the model"
   ]
  },
  {
   "cell_type": "code",
   "execution_count": 5,
   "metadata": {},
   "outputs": [
    {
     "name": "stdout",
     "output_type": "stream",
     "text": [
      "Most negative tweets:\n",
      "trump spews hate unrelentingly like a hurt spoil disturbed child as a sociopath who really doesnt care and should hell is an unimaginable evil or hate without love of darkest of hate eternally where god or love doesnt exist unlike life beware trump hell exist vote;\n",
      "\n",
      "trump spews hate unrelentingly like a hurt spoil disturbed child as a sociopath who really doesnt care and should hell is an unimaginable evil or hate without love of darkest of hate eternally where god or love doesnt exist unlike life beware trump hell exist vote;\n",
      "\n",
      "racism is evil and those who cause violence in its name are criminals and thugs including the kkk neonazis white supremacists and other hate groups trump aug ;\n",
      "\n",
      "Most positive tweets:\n",
      "sadiececile why because president trump is the best candidate for our economy for jobs for minorities and people support his causes we live in america the land of freedom this is not china or cuba iam a proud american and i support trumppence amp i only wish the best for everyone;\n",
      "\n",
      "hannahalesiii  no cheesiness or cliches just sending love your way you are an amazing mama to those sweet babies also trump calls himself stable you dont want to be like him i hope your day gets better beautiful;\n",
      "\n",
      "remarkable bipartisan consensus about us grand strategy great power competition trump administration and free world biden lead to similar conclusions us needs to focus on competition with china and russia and in order to succeed it relies on the support of allies;\n",
      "\n"
     ]
    }
   ],
   "source": [
    "df['compound_score'] = pd.to_numeric(df['compound_score'])\n",
    "\n",
    "print(\"Most negative tweets:\")\n",
    "for t in df.nsmallest(3, 'compound_score')['tweet']:\n",
    "    print(t + \";\")\n",
    "    print()\n",
    "\n",
    "print(\"Most positive tweets:\")\n",
    "for t in df.nlargest(3, 'compound_score')['tweet']:\n",
    "    print(t + \";\")\n",
    "    print()"
   ]
  },
  {
   "cell_type": "markdown",
   "metadata": {},
   "source": [
    "#### Conclusion:  \n",
    "The sentiment analysis seems to qualify tweets well."
   ]
  },
  {
   "cell_type": "markdown",
   "metadata": {},
   "source": [
    "## Checking the valence of tweets per candidate\n",
    "The use case of our pipeline wants to know what kind of valence the tweets about a certain presidential candidate have, and how this compares to that of the other candidate.  \n",
    "Below, we will plot a graph showing this, as well as a baseline that checks the valence of tweets that mention both candidates"
   ]
  },
  {
   "cell_type": "code",
   "execution_count": 6,
   "metadata": {},
   "outputs": [
    {
     "data": {
      "image/png": "[encoded data removed]",
      "text/plain": [
       "<Figure size 432x288 with 1 Axes>"
      ]
     },
     "metadata": {
      "needs_background": "light"
     },
     "output_type": "display_data"
    }
   ],
   "source": [
    "binwidth = 0.1\n",
    "bins = np.arange(-1, 1 + binwidth, binwidth)\n",
    "\n",
    "plt.hist(df[df['candidate'] == 'Trump']['compound_score'], color='red', label='Trump', bins=bins)\n",
    "plt.hist(df[df['candidate'] == 'Biden']['compound_score'], color='blue', label='Biden', bins=bins)\n",
    "plt.hist(df[df['candidate'] == 'Both']['compound_score'], color='purple', label='Both', bins=bins)\n",
    "\n",
    "plt.title('Valence of tweets per candidate')\n",
    "plt.xlabel('Compound score')\n",
    "plt.ylabel('Amount of tweets')\n",
    "plt.legend(loc='best')\n",
    "\n",
    "plt.show()"
   ]
  },
  {
   "cell_type": "markdown",
   "metadata": {},
   "source": [
    "#### Conclusion\n",
    "We see that there is no large difference in the valence of the tweets per candidate. However, we do see that there is a clear difference in how much is tweeted about a certain candidate. Donald Trump is definitely more often mentioned than Joe Biden. Independent of political preference, this should come as no surprise."
   ]
  },
  {
   "cell_type": "markdown",
   "metadata": {},
   "source": [
    "## Fun additional analysis\n",
    "We were also curious if the emotion that is present in the tweet has an effect on the length of the text. One could hypothesize that people that are angry type less long tweets.  \n",
    "We try to find out if there is a correlation between length and valence below."
   ]
  },
  {
   "cell_type": "code",
   "execution_count": 7,
   "metadata": {},
   "outputs": [],
   "source": [
    "# add the length of the tweet to the dataframe\n",
    "df['tlength'] = df['tweet'].str.len()"
   ]
  },
  {
   "cell_type": "code",
   "execution_count": 11,
   "metadata": {},
   "outputs": [
    {
     "data": {
      "image/png": "[encoded data removed]",
      "text/plain": [
       "<Figure size 432x288 with 1 Axes>"
      ]
     },
     "metadata": {
      "needs_background": "light"
     },
     "output_type": "display_data"
    }
   ],
   "source": [
    "r = round(df['tlength'].corr(df['compound_score']), 2)\n",
    "\n",
    "plt.scatter(df['compound_score'], df['tlength'])\n",
    "plt.title(f\"Pearson's correlation coefficient (r) = {r}\")\n",
    "plt.xlabel('Compound score')\n",
    "plt.ylabel('Length of tweet')\n",
    "plt.show()"
   ]
  },
  {
   "cell_type": "markdown",
   "metadata": {},
   "source": [
    "#### Conclusion\n",
    "It is probably safe to conclude that there is no correlation between tweet length and valence in our dataset."
   ]
  }
 ],
 "metadata": {
  "kernelspec": {
   "display_name": "Python 3",
   "language": "python",
   "name": "python3"
  },
  "language_info": {
   "codemirror_mode": {
    "name": "ipython",
    "version": 3
   },
   "file_extension": ".py",
   "mimetype": "text/x-python",
   "name": "python",
   "nbconvert_exporter": "python",
   "pygments_lexer": "ipython3",
   "version": "3.6.12"
  }
 },
 "nbformat": 4,
 "nbformat_minor": 4
}
